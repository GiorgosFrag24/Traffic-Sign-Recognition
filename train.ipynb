{
  "nbformat": 4,
  "nbformat_minor": 0,
  "metadata": {
    "colab": {
      "name": "train.ipynb",
      "provenance": [],
      "collapsed_sections": [],
      "include_colab_link": true
    },
    "kernelspec": {
      "name": "python3",
      "display_name": "Python 3"
    },
    "language_info": {
      "name": "python"
    }
  },
  "cells": [
    {
      "cell_type": "markdown",
      "metadata": {
        "id": "view-in-github",
        "colab_type": "text"
      },
      "source": [
        "<a href=\"https://colab.research.google.com/github/GiorgosFrag24/Traffic-Sign-Recognition/blob/main/train.ipynb\" target=\"_parent\"><img src=\"https://colab.research.google.com/assets/colab-badge.svg\" alt=\"Open In Colab\"/></a>"
      ]
    },
    {
      "cell_type": "code",
      "metadata": {
        "colab": {
          "base_uri": "https://localhost:8080/"
        },
        "id": "l7942ZljIaCF",
        "outputId": "5a8d0be8-bcf4-4d54-f5f8-5a7b011066ce"
      },
      "source": [
        "from google.colab import drive\n",
        "drive.mount('/content/drive')\n"
      ],
      "execution_count": 1,
      "outputs": [
        {
          "output_type": "stream",
          "name": "stdout",
          "text": [
            "Mounted at /content/drive\n"
          ]
        }
      ]
    },
    {
      "cell_type": "code",
      "metadata": {
        "id": "Ktps-OhVI035"
      },
      "source": [
        "# Placeholders for training data\n",
        "data = []\n",
        "labels = []\n",
        "classes = 43\n",
        "cur_path = r'/content/drive/MyDrive/Traffic Sign Recognition'\n"
      ],
      "execution_count": 5,
      "outputs": []
    },
    {
      "cell_type": "code",
      "metadata": {
        "id": "zcNRpBmoIvfN"
      },
      "source": [
        "import numpy as np \n",
        "import pandas as pd \n",
        "import matplotlib.pyplot as plt\n",
        "import cv2\n",
        "import tensorflow as tf\n",
        "from PIL import Image\n",
        "from PIL import ImageFilter\n",
        "import os\n",
        "from sklearn.model_selection import KFold\n",
        "from sklearn.model_selection import GridSearchCV\n",
        "from sklearn.model_selection import train_test_split\n",
        "from sklearn.metrics import accuracy_score\n",
        "from tensorflow.keras.utils import to_categorical\n",
        "from tensorflow.keras.models import Sequential, load_model\n",
        "from tensorflow.keras.layers import Conv2D, MaxPool2D, Dense, Flatten, Dropout\n",
        "from tensorflow.keras.wrappers.scikit_learn import KerasClassifier\n",
        "from keras.models import Model"
      ],
      "execution_count": 2,
      "outputs": []
    },
    {
      "cell_type": "code",
      "metadata": {
        "id": "-66pl21f8grb"
      },
      "source": [
        "\n",
        "# Define a Gaussian noise function\n",
        "def noise(image):\n",
        "    row,col,ch= image.shape      \n",
        "    gauss = np.array(image.shape)\n",
        "    gauss = np.random.standard_normal(size=(row,col,ch))\n",
        "    noisy = image + 0.1*255*gauss\n",
        "    return noisy\n",
        "    \n",
        "\n",
        "# Model creator function\n",
        "def create_model(neurons = 256, dropout = 0.1, filters=16, kernels=[(5,5),(3,3)],optimizer='adam'):\n",
        "    model = Sequential()\n",
        "    model.add(Conv2D(filters=filters, kernel_size=kernels[0], \n",
        "                    activation='relu', input_shape=(30,30,3) )) \n",
        "    model.add(MaxPool2D(pool_size=(2,2)))\n",
        "    model.add(Dropout(rate=dropout))\n",
        "    model.add(Conv2D(filters=filters*2, kernel_size=kernels[1], activation='relu'))\n",
        "    model.add(MaxPool2D(pool_size=(2,2)))\n",
        "    model.add(Dropout(rate=dropout))\n",
        "    model.add(Flatten())\n",
        "    model.add(Dense(neurons, activation='relu'))\n",
        "    model.add(Dropout(rate=dropout))\n",
        "    model.add(Dense(43, activation='softmax'))\n",
        "\n",
        "    model.compile(loss='categorical_crossentropy', optimizer=optimizer, metrics=['accuracy'])\n",
        "    return model"
      ],
      "execution_count": 3,
      "outputs": []
    },
    {
      "cell_type": "code",
      "metadata": {
        "id": "VYyDwFdzI5IH"
      },
      "source": [
        "# DON'T EXECUTE!!!\n",
        "# Load Training images and their respective labels\n",
        "for i in range(0,43):\n",
        "    path = os.path.join(cur_path,'GTSRB/Training',str(i).zfill(5))\n",
        "    images = os.listdir(path)    \n",
        "    for a in images:\n",
        "        try:\n",
        "            if a.endswith('.csv'):\n",
        "              continue\n",
        "            image = Image.open(path + '/'+ a)\n",
        "            image = image.resize((30,30))\n",
        "            image = np.array(image)\n",
        "            data.append(image)\n",
        "            labels.append(i)\n",
        "        except Exception as inst:\n",
        "            print(inst)\n",
        "            continue\n",
        "\n",
        "# Store training data \n",
        "data = np.array(data)\n",
        "labels = np.array(labels)\n",
        "#np.save( os.path.join(cur_path,'data.npy'), data)\n",
        "#np.save(os.path.join(cur_path,'labels.npy'), labels)"
      ],
      "execution_count": null,
      "outputs": []
    },
    {
      "cell_type": "code",
      "metadata": {
        "id": "5YEYjLTGbGEw"
      },
      "source": [
        "# Load training data from disk\n",
        "data = np.load(os.path.join(cur_path,'data.npy'))\n",
        "labels = np.load(os.path.join(cur_path,'labels.npy'))\n",
        "\n",
        "# Split training data to train and validation\n",
        "X = data\n",
        "y = labels\n",
        "X_train, X_val, y_train, y_val = train_test_split(data, labels, test_size=0.2, random_state=42)\n",
        "\n",
        "# Convert labels to one-hot encoding\n",
        "y_train = to_categorical(y_train, 43)\n",
        "y_val = to_categorical(y_val, 43)\n"
      ],
      "execution_count": 6,
      "outputs": []
    },
    {
      "cell_type": "code",
      "metadata": {
        "id": "Si8pOfAqkF2-",
        "colab": {
          "base_uri": "https://localhost:8080/",
          "height": 1000
        },
        "outputId": "dfcfcfb0-7f6e-43c6-b219-b8817aaefc88"
      },
      "source": [
        "# This block is used to evaluate our models' hyperparameters by iteratively searching the input space\n",
        "# and finding the optimal values through the learning curves\n",
        "model = create_model()\n",
        "model.summary()\n",
        "epochs = 40\n",
        "history = model.fit(X_train, y_train, batch_size=32, epochs=epochs, validation_data=(X_val, y_val))\n",
        "model.save(os.path.join(cur_path,'keras_model.h5'))\n",
        "iteration = 7\n",
        "#Plotting accuracy graphs \n",
        "plt.figure(0)\n",
        "plt.plot(history.history['accuracy'], label='training accuracy')\n",
        "plt.plot(history.history['val_accuracy'], label='val accuracy')\n",
        "plt.title('Accuracy')\n",
        "plt.xlabel('epochs')\n",
        "plt.ylabel('accuracy')\n",
        "plt.legend()\n",
        "#plt.savefig(os.path.join(r'/content/drive/MyDrive/Traffic Sign Recognition/GTSRB/Plots',str(iteration)+' Set Accuracy .png'))\n",
        "plt.show()\n",
        "\n",
        "#Plotting loss graphs\n",
        "plt.figure(1)\n",
        "plt.plot(history.history['loss'], label='training loss')\n",
        "plt.plot(history.history['val_loss'], label='val loss')\n",
        "plt.title('Loss')\n",
        "plt.xlabel('epochs')\n",
        "plt.ylabel('loss')\n",
        "plt.legend()\n",
        "#plt.savefig(os.path.join(r'/content/drive/MyDrive/Traffic Sign Recognition/GTSRB/Plots',str(iteration)+' Set Loss .png'))\n",
        "plt.show()"
      ],
      "execution_count": 8,
      "outputs": [
        {
          "output_type": "stream",
          "name": "stdout",
          "text": [
            "Model: \"sequential\"\n",
            "_________________________________________________________________\n",
            "Layer (type)                 Output Shape              Param #   \n",
            "=================================================================\n",
            "conv2d (Conv2D)              (None, 26, 26, 16)        1216      \n",
            "_________________________________________________________________\n",
            "max_pooling2d (MaxPooling2D) (None, 13, 13, 16)        0         \n",
            "_________________________________________________________________\n",
            "dropout (Dropout)            (None, 13, 13, 16)        0         \n",
            "_________________________________________________________________\n",
            "conv2d_1 (Conv2D)            (None, 11, 11, 32)        4640      \n",
            "_________________________________________________________________\n",
            "max_pooling2d_1 (MaxPooling2 (None, 5, 5, 32)          0         \n",
            "_________________________________________________________________\n",
            "dropout_1 (Dropout)          (None, 5, 5, 32)          0         \n",
            "_________________________________________________________________\n",
            "flatten (Flatten)            (None, 800)               0         \n",
            "_________________________________________________________________\n",
            "dense (Dense)                (None, 256)               205056    \n",
            "_________________________________________________________________\n",
            "dropout_2 (Dropout)          (None, 256)               0         \n",
            "_________________________________________________________________\n",
            "dense_1 (Dense)              (None, 43)                11051     \n",
            "=================================================================\n",
            "Total params: 221,963\n",
            "Trainable params: 221,963\n",
            "Non-trainable params: 0\n",
            "_________________________________________________________________\n",
            "Epoch 1/40\n",
            "666/666 [==============================] - 17s 25ms/step - loss: 2.1644 - accuracy: 0.5276 - val_loss: 0.5689 - val_accuracy: 0.8514\n",
            "Epoch 2/40\n",
            "666/666 [==============================] - 16s 25ms/step - loss: 0.6273 - accuracy: 0.8273 - val_loss: 0.3111 - val_accuracy: 0.9219\n",
            "Epoch 3/40\n",
            "666/666 [==============================] - 17s 25ms/step - loss: 0.4234 - accuracy: 0.8824 - val_loss: 0.2001 - val_accuracy: 0.9469\n",
            "Epoch 4/40\n",
            "666/666 [==============================] - 17s 25ms/step - loss: 0.3191 - accuracy: 0.9111 - val_loss: 0.1602 - val_accuracy: 0.9576\n",
            "Epoch 5/40\n",
            "666/666 [==============================] - 17s 25ms/step - loss: 0.2617 - accuracy: 0.9232 - val_loss: 0.1636 - val_accuracy: 0.9520\n",
            "Epoch 6/40\n",
            "666/666 [==============================] - 17s 25ms/step - loss: 0.2264 - accuracy: 0.9352 - val_loss: 0.1158 - val_accuracy: 0.9675\n",
            "Epoch 7/40\n",
            "666/666 [==============================] - 17s 25ms/step - loss: 0.2136 - accuracy: 0.9392 - val_loss: 0.1386 - val_accuracy: 0.9627\n",
            "Epoch 8/40\n",
            "666/666 [==============================] - 17s 25ms/step - loss: 0.2059 - accuracy: 0.9421 - val_loss: 0.1078 - val_accuracy: 0.9709\n",
            "Epoch 9/40\n",
            "666/666 [==============================] - 17s 25ms/step - loss: 0.1825 - accuracy: 0.9500 - val_loss: 0.1001 - val_accuracy: 0.9737\n",
            "Epoch 10/40\n",
            "666/666 [==============================] - 17s 25ms/step - loss: 0.1765 - accuracy: 0.9502 - val_loss: 0.1172 - val_accuracy: 0.9696\n",
            "Epoch 11/40\n",
            "666/666 [==============================] - 17s 25ms/step - loss: 0.1529 - accuracy: 0.9581 - val_loss: 0.0939 - val_accuracy: 0.9767\n",
            "Epoch 12/40\n",
            "666/666 [==============================] - 17s 25ms/step - loss: 0.1527 - accuracy: 0.9565 - val_loss: 0.0969 - val_accuracy: 0.9732\n",
            "Epoch 13/40\n",
            "666/666 [==============================] - 17s 25ms/step - loss: 0.1454 - accuracy: 0.9595 - val_loss: 0.1200 - val_accuracy: 0.9717\n",
            "Epoch 14/40\n",
            "666/666 [==============================] - 17s 25ms/step - loss: 0.1470 - accuracy: 0.9607 - val_loss: 0.0709 - val_accuracy: 0.9805\n",
            "Epoch 15/40\n",
            "666/666 [==============================] - 17s 25ms/step - loss: 0.1219 - accuracy: 0.9654 - val_loss: 0.0950 - val_accuracy: 0.9730\n",
            "Epoch 16/40\n",
            "666/666 [==============================] - 17s 25ms/step - loss: 0.1424 - accuracy: 0.9632 - val_loss: 0.0926 - val_accuracy: 0.9737\n",
            "Epoch 17/40\n",
            "666/666 [==============================] - 17s 25ms/step - loss: 0.1196 - accuracy: 0.9681 - val_loss: 0.0852 - val_accuracy: 0.9814\n",
            "Epoch 18/40\n",
            "666/666 [==============================] - 17s 26ms/step - loss: 0.1396 - accuracy: 0.9648 - val_loss: 0.0753 - val_accuracy: 0.9816\n",
            "Epoch 19/40\n",
            "666/666 [==============================] - 17s 25ms/step - loss: 0.1413 - accuracy: 0.9631 - val_loss: 0.1027 - val_accuracy: 0.9720\n",
            "Epoch 20/40\n",
            "666/666 [==============================] - 17s 25ms/step - loss: 0.1190 - accuracy: 0.9688 - val_loss: 0.1119 - val_accuracy: 0.9779\n",
            "Epoch 21/40\n",
            "666/666 [==============================] - 17s 25ms/step - loss: 0.1628 - accuracy: 0.9622 - val_loss: 0.0963 - val_accuracy: 0.9779\n",
            "Epoch 22/40\n",
            "666/666 [==============================] - 17s 25ms/step - loss: 0.1211 - accuracy: 0.9703 - val_loss: 0.0826 - val_accuracy: 0.9788\n",
            "Epoch 23/40\n",
            "666/666 [==============================] - 17s 25ms/step - loss: 0.1222 - accuracy: 0.9715 - val_loss: 0.1037 - val_accuracy: 0.9773\n",
            "Epoch 24/40\n",
            "666/666 [==============================] - 17s 25ms/step - loss: 0.1146 - accuracy: 0.9719 - val_loss: 0.0714 - val_accuracy: 0.9839\n",
            "Epoch 25/40\n",
            "666/666 [==============================] - 17s 25ms/step - loss: 0.1309 - accuracy: 0.9686 - val_loss: 0.0940 - val_accuracy: 0.9801\n",
            "Epoch 26/40\n",
            "666/666 [==============================] - 17s 25ms/step - loss: 0.1159 - accuracy: 0.9729 - val_loss: 0.0930 - val_accuracy: 0.9756\n",
            "Epoch 27/40\n",
            "666/666 [==============================] - 17s 25ms/step - loss: 0.1399 - accuracy: 0.9681 - val_loss: 0.1214 - val_accuracy: 0.9756\n",
            "Epoch 28/40\n",
            "666/666 [==============================] - 17s 25ms/step - loss: 0.1425 - accuracy: 0.9691 - val_loss: 0.0951 - val_accuracy: 0.9795\n",
            "Epoch 29/40\n",
            "666/666 [==============================] - 17s 25ms/step - loss: 0.1283 - accuracy: 0.9703 - val_loss: 0.1095 - val_accuracy: 0.9794\n",
            "Epoch 30/40\n",
            "666/666 [==============================] - 17s 25ms/step - loss: 0.1061 - accuracy: 0.9741 - val_loss: 0.0956 - val_accuracy: 0.9835\n",
            "Epoch 31/40\n",
            "666/666 [==============================] - 17s 25ms/step - loss: 0.1240 - accuracy: 0.9734 - val_loss: 0.0831 - val_accuracy: 0.9852\n",
            "Epoch 32/40\n",
            "666/666 [==============================] - 17s 25ms/step - loss: 0.1109 - accuracy: 0.9767 - val_loss: 0.0984 - val_accuracy: 0.9840\n",
            "Epoch 33/40\n",
            "666/666 [==============================] - 17s 25ms/step - loss: 0.1388 - accuracy: 0.9715 - val_loss: 0.0882 - val_accuracy: 0.9833\n",
            "Epoch 34/40\n",
            "666/666 [==============================] - 17s 25ms/step - loss: 0.1045 - accuracy: 0.9764 - val_loss: 0.1260 - val_accuracy: 0.9780\n",
            "Epoch 35/40\n",
            "666/666 [==============================] - 17s 25ms/step - loss: 0.1383 - accuracy: 0.9706 - val_loss: 0.1149 - val_accuracy: 0.9794\n",
            "Epoch 36/40\n",
            "666/666 [==============================] - 17s 25ms/step - loss: 0.1123 - accuracy: 0.9759 - val_loss: 0.0974 - val_accuracy: 0.9825\n",
            "Epoch 37/40\n",
            "666/666 [==============================] - 17s 25ms/step - loss: 0.1223 - accuracy: 0.9750 - val_loss: 0.0837 - val_accuracy: 0.9816\n",
            "Epoch 38/40\n",
            "666/666 [==============================] - 17s 26ms/step - loss: 0.0893 - accuracy: 0.9792 - val_loss: 0.0851 - val_accuracy: 0.9852\n",
            "Epoch 39/40\n",
            "666/666 [==============================] - 17s 26ms/step - loss: 0.1328 - accuracy: 0.9754 - val_loss: 0.1166 - val_accuracy: 0.9814\n",
            "Epoch 40/40\n",
            "666/666 [==============================] - 17s 25ms/step - loss: 0.1021 - accuracy: 0.9777 - val_loss: 0.1170 - val_accuracy: 0.9816\n"
          ]
        },
        {
          "output_type": "display_data",
          "data": {
            "image/png": "[encoded data removed]",
            "text/plain": [
              "<Figure size 432x288 with 1 Axes>"
            ]
          },
          "metadata": {
            "needs_background": "light"
          }
        },
        {
          "output_type": "display_data",
          "data": {
            "image/png": "[encoded data removed]",
            "text/plain": [
              "<Figure size 432x288 with 1 Axes>"
            ]
          },
          "metadata": {
            "needs_background": "light"
          }
        }
      ]
    },
    {
      "cell_type": "code",
      "metadata": {
        "id": "39A-81eu8msQ"
      },
      "source": [
        "# DON'T EXECUTE!!!\n",
        "# Input the testing data\n",
        "test = pd.read_csv(os.path.join(cur_path,'GTSRB/Testing/GT-final_test.csv'),delimiter=';')\n",
        "test_imgs = test[\"Filename\"].values\n",
        "test_data=[]\n",
        "for img in test_imgs:\n",
        "    print(counter)\n",
        "    image = Image.open(os.path.join(cur_path,'GTSRB/Testing',img))\n",
        "    image = image.resize((30,30))\n",
        "    test_data.append(np.array(image))\n",
        "X_test = np.array(test_data)\n",
        "y_test = test['ClassId'].values\n",
        "np.save( os.path.join(cur_path,'test_data.npy'), X_test)\n",
        "np.save(os.path.join(cur_path,'test_labels.npy'), y_test) "
      ],
      "execution_count": null,
      "outputs": []
    },
    {
      "cell_type": "code",
      "metadata": {
        "id": "AyuLpLmHJw4N",
        "colab": {
          "base_uri": "https://localhost:8080/"
        },
        "outputId": "0dab5064-6fd6-4cb8-e2c1-110d1a267747"
      },
      "source": [
        "# Load testing data\n",
        "X_test = np.load(os.path.join(cur_path,'test_data.npy'))\n",
        "y_test = np.load(os.path.join(cur_path,'test_labels.npy'))\n",
        "# Make prediction on the test dataset\n",
        "y_pred = model.predict(X_test)\n",
        "y_pred = np.argmax(y_pred, axis=1)\n",
        "y_pred = to_categorical(y_pred, 43) \n",
        "\n",
        "print(\"Final accuracy score is %.5f percent \" %(accuracy_score(y_test, y_pred)*100))"
      ],
      "execution_count": 9,
      "outputs": [
        {
          "output_type": "stream",
          "name": "stdout",
          "text": [
            "Final accuracy score is 88.40063 percent \n"
          ]
        }
      ]
    },
    {
      "cell_type": "code",
      "metadata": {
        "id": "XUNEZNkEyWQS"
      },
      "source": [
        "# DON'T EXECUTE!!!\n",
        "# Part 2 of the assignment\n",
        "# Reload the testing images, and distort them by applying a gaussian noise function \n",
        "from matplotlib import pyplot as plt\n",
        "test = pd.read_csv(os.path.join(cur_path,'GTSRB/Testing/GT-final_test.csv'),delimiter=';')\n",
        "y_test = test['ClassId'].values\n",
        "test_imgs = test[\"Filename\"].values\n",
        "noisy_test_data=[]\n",
        "counter=0\n",
        "for img in test_imgs:\n",
        "    image = Image.open(os.path.join(cur_path,'GTSRB/Testing',img))\n",
        "    image = noise(np.array(image)).astype(np.uint8)\n",
        "    image = Image.fromarray(image, 'RGB')\n",
        "    image = image.resize((30,30))\n",
        "    noisy_test_data.append(np.array(image))\n",
        "noisy_X_test=np.array(noisy_test_data)\n",
        "\n",
        "# Save noisy images\n",
        "np.save( os.path.join(cur_path,'noisy_test_data.npy'), noisy_X_test)\n",
        " "
      ],
      "execution_count": null,
      "outputs": []
    },
    {
      "cell_type": "code",
      "metadata": {
        "colab": {
          "base_uri": "https://localhost:8080/"
        },
        "id": "rcetz2v88VFl",
        "outputId": "73e5168a-279b-4bb8-948d-99e8fecd2b68"
      },
      "source": [
        "# Make a prediction on the distorted images\n",
        "noisy_X_test = np.load(os.path.join(cur_path,'noisy_test_data.npy'))\n",
        "y_pred = model.predict(noisy_X_test)\n",
        "y_pred = np.argmax(y_pred, axis=1)\n",
        "y_pred = to_categorical(y_pred, 43) \n",
        "print(\"Final accuracy score of noisy dataset is %.5f percent \" %(accuracy_score(y_test, y_pred)*100))"
      ],
      "execution_count": 10,
      "outputs": [
        {
          "output_type": "stream",
          "name": "stdout",
          "text": [
            "Final accuracy score of noisy dataset is 42.21694 percent \n"
          ]
        }
      ]
    },
    {
      "cell_type": "code",
      "metadata": {
        "id": "LWfYn5v6tux9"
      },
      "source": [
        ""
      ],
      "execution_count": null,
      "outputs": []
    },
    {
      "cell_type": "code",
      "metadata": {
        "id": "IBEb9Ogk5Xtk"
      },
      "source": [
        "# This block is used to evaluate our models' hyperparameters by iteratively searching the input space\n",
        "# and finding the optimal values through the learning curves\n",
        "import skimage.io\n",
        "import skimage.filters\n",
        "from skimage.filters import unsharp_mask\n",
        "\n",
        "def noise(image):\n",
        "    row,col,ch= image.shape      \n",
        "    gauss = np.array(image.shape)\n",
        "    gauss = np.random.standard_normal(size=(row,col))\n",
        "    for i in range(0,3):\n",
        "      image[:,:,i] = image[:,:,i] + 25.5*gauss\n",
        "    return image\n",
        "\n",
        "\n",
        "# Define a denoising function\n",
        "def denoise(image):\n",
        "    new_image = cv2.medianBlur(image,3)\n",
        "    sharped = unsharp_mask(new_image, radius=3, amount=2)\n",
        "    sharped[sharped>255] = 255\n",
        "    sharped[sharped<0] = 0\n",
        "    return sharped\n",
        "\n",
        "model = create_model()\n",
        "model.summary()\n",
        "epochs = 40\n",
        "history = model.fit(X_train, y_train, batch_size=32, epochs=epochs, validation_data=(X_val, y_val))\n",
        "model.save(os.path.join(cur_path,'keras_model.h5'))\n",
        "iteration = 7\n",
        "#Plotting accuracy graphs \n",
        "plt.figure(0)\n",
        "plt.plot(history.history['accuracy'], label='training accuracy')\n",
        "plt.plot(history.history['val_accuracy'], label='val accuracy')\n",
        "plt.title('Accuracy')\n",
        "plt.xlabel('epochs')\n",
        "plt.ylabel('accuracy')\n",
        "plt.legend()\n",
        "#plt.savefig(os.path.join(r'/content/drive/MyDrive/Traffic Sign Recognition/GTSRB/Plots',str(iteration)+' Set Accuracy .png'))\n",
        "plt.show()\n",
        "\n",
        "#Plotting loss graphs\n",
        "plt.figure(1)\n",
        "plt.plot(history.history['loss'], label='training loss')\n",
        "plt.plot(history.history['val_loss'], label='val loss')\n",
        "plt.title('Loss')\n",
        "plt.xlabel('epochs')\n",
        "plt.ylabel('loss')\n",
        "plt.legend()\n",
        "#plt.savefig(os.path.join(r'/content/drive/MyDrive/Traffic Sign Recognition/GTSRB/Plots',str(iteration)+' Set Loss .png'))\n",
        "plt.show()"
      ],
      "execution_count": null,
      "outputs": []
    },
    {
      "cell_type": "code",
      "metadata": {
        "id": "O1L-Ygiune2k"
      },
      "source": [
        "import skimage.io\n",
        "import skimage.filters\n",
        "from skimage.filters import unsharp_mask\n",
        "\n",
        "def noise(image):\n",
        "    row,col,ch= image.shape      \n",
        "    gauss = np.array(image.shape)\n",
        "    gauss = np.random.standard_normal(size=(row,col))\n",
        "    m = 0\n",
        "    s = 1\n",
        "    gauss = cv2.randn(gauss,m,s);\n",
        "    for i in range(0,3):\n",
        "      image[:,:,i] = image[:,:,i] + 25.5*gauss\n",
        "    return image\n",
        "\n",
        "\n",
        "# Define a denoising function\n",
        "def denoise(image):\n",
        "    kernel = np.array([[0, -1, 0],\n",
        "                   [-1, 5,-1],\n",
        "                   [0, -1, 0]])\n",
        "    \n",
        "    new_image = cv2.medianBlur(image,3)\n",
        "    image_sharp = cv2.filter2D(src=new_image, ddepth=-1, kernel=kernel)\n",
        "    return new_image\n",
        "\n",
        "test = pd.read_csv(os.path.join(cur_path,'GTSRB/Testing/GT-final_test.csv'),delimiter=';')\n",
        "y_test = test['ClassId'].values\n",
        "y_test = to_categorical(y_test, 43) \n",
        "test_imgs = test[\"Filename\"].values\n",
        "denoised_test_data=[]\n",
        "counter=0\n",
        "for img in test_imgs[10000:11000]:\n",
        "    image = Image.open(os.path.join(cur_path,'GTSRB/Testing',img))\n",
        "   \n",
        "    image = noise(np.array(image)).astype(np.uint8)\n",
        "    \n",
        "    image = denoise(image)\n",
        "    \n",
        "    image = Image.fromarray(image, 'RGB')\n",
        "\n",
        "    image = image.resize((30,30))\n",
        "    denoised_test_data.append(np.array(image))\n",
        "denoised_X_test=np.array(denoised_test_data)\n",
        "\n",
        "# Save recovered images\n",
        "np.save( os.path.join(cur_path,'denoised_test_data.npy'), denoised_X_test)"
      ],
      "execution_count": 331,
      "outputs": []
    },
    {
      "cell_type": "code",
      "metadata": {
        "colab": {
          "base_uri": "https://localhost:8080/"
        },
        "id": "49T8-qEbu7CY",
        "outputId": "dcef064f-147c-4fb8-e394-c528e537ca4c"
      },
      "source": [
        " # Make a prediction on the recovered images\n",
        "denoised_X_test = np.load(os.path.join(cur_path,'denoised_test_data.npy'))\n",
        "y_pred = model.predict(denoised_X_test)\n",
        "y_pred = np.argmax(y_pred, axis=1)\n",
        "y_pred = to_categorical(y_pred, 43) \n",
        "print(\"Final accuracy score of denoised dataset is %.5f percent \" %(accuracy_score(y_test[10000:11000], y_pred)*100))"
      ],
      "execution_count": 332,
      "outputs": [
        {
          "output_type": "stream",
          "name": "stdout",
          "text": [
            "Final accuracy score of denoised dataset is 40.40000 percent \n"
          ]
        }
      ]
    },
    {
      "cell_type": "code",
      "metadata": {
        "id": "TQbVlpKfnfPn",
        "colab": {
          "base_uri": "https://localhost:8080/"
        },
        "outputId": "50b2878b-2c35-4d72-b23e-5f039190f96b"
      },
      "source": [
        "# Part 3 of the assignment\n",
        "from keras.models import load_model\n",
        "model1 = load_model(os.path.join(cur_path,'keras_model.h5'))\n",
        "\n",
        "import torch\n",
        "import torch.nn as nn\n",
        "import torch.nn.functional as F\n",
        "\n",
        "class Net(nn.Module):\n",
        "\tdef __init__(self):\n",
        "\t\tsuper(Net, self).__init__()\n",
        "\t\t\n",
        "\t\tself.conv1 = nn.Conv2d(3, 16, 5)\n",
        "\t\tself.conv2 = nn.Conv2d(16, 32, 3)\n",
        "\t\tself.fc1 = nn.Linear(800, 256)\n",
        "\t\tself.fc2 = nn.Linear(256, 43)\n",
        "\n",
        "\tdef forward(self, x):\n",
        "\t\tx = F.relu(self.conv1(x))\n",
        "\t\tx = F.max_pool2d(x,2)\n",
        "\t\tx = F.dropout(x)\n",
        "\t\tx = F.relu(self.conv2(x))\n",
        "\t\tx = F.max_pool2d(x,2)\n",
        "\t\tx = F.dropout(x)\n",
        "\t\tx = torch.flatten(x, 1) # flatten all dimensions except batch\n",
        "\t\tx = F.relu(self.fc1(x))\n",
        "\t\tx = F.dropout(x)\n",
        "\t\tx = F.Softmax(self.fc2(x))\n",
        "\t\treturn x\n",
        "\n",
        "net = Net()\n",
        "print(net)\n",
        "\n",
        "# Get the pre-trained weights\n",
        "weights = model1.get_weights()\n",
        "net.conv1.weight.data=torch.from_numpy(np.transpose(weights[0]))\n",
        "net.conv1.bias.data=torch.from_numpy(np.transpose(weights[1]))\n",
        "net.conv2.weight.data=torch.from_numpy(np.transpose(weights[2]))\n",
        "net.conv2.bias.data=torch.from_numpy(np.transpose(weights[3]))\n",
        "\n",
        "net.fc1.weight.data=torch.from_numpy(np.transpose(weights[4]))\n",
        "net.fc1.bias.data=torch.from_numpy(np.transpose(weights[4]))\n",
        "net.fc2.weight.data=torch.from_numpy(np.transpose(weights[6]))\n",
        "net.fc2.bias.data=torch.from_numpy(np.transpose(weights[7]))\n"
      ],
      "execution_count": null,
      "outputs": [
        {
          "output_type": "stream",
          "name": "stdout",
          "text": [
            "Net(\n",
            "  (conv1): Conv2d(3, 16, kernel_size=(5, 5), stride=(1, 1))\n",
            "  (conv2): Conv2d(16, 32, kernel_size=(3, 3), stride=(1, 1))\n",
            "  (fc1): Linear(in_features=800, out_features=256, bias=True)\n",
            "  (fc2): Linear(in_features=256, out_features=43, bias=True)\n",
            ")\n"
          ]
        }
      ]
    }
  ]
}